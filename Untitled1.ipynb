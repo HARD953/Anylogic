{
 "cells": [
  {
   "cell_type": "code",
   "execution_count": 2,
   "id": "e54499be-bf40-40ab-bbe6-c4d1e0f6242c",
   "metadata": {},
   "outputs": [
    {
     "name": "stdout",
     "output_type": "stream",
     "text": [
      "Meilleur modèle : KNN avec une accuracy de 1.00\n",
      "Matrice de confusion :\n",
      " [[2 0]\n",
      " [0 2]]\n",
      "Rapport de classification :\n",
      "               precision    recall  f1-score   support\n",
      "\n",
      "           0       1.00      1.00      1.00         2\n",
      "           1       1.00      1.00      1.00         2\n",
      "\n",
      "    accuracy                           1.00         4\n",
      "   macro avg       1.00      1.00      1.00         4\n",
      "weighted avg       1.00      1.00      1.00         4\n",
      "\n"
     ]
    },
    {
     "data": {
      "text/plain": [
       "['label_encoder.pkl']"
      ]
     },
     "execution_count": 2,
     "metadata": {},
     "output_type": "execute_result"
    }
   ],
   "source": [
    "import pandas as pd\n",
    "import numpy as np\n",
    "from sklearn.model_selection import train_test_split\n",
    "from sklearn.preprocessing import LabelEncoder, StandardScaler\n",
    "from sklearn.neighbors import KNeighborsClassifier\n",
    "from sklearn.ensemble import RandomForestClassifier\n",
    "from sklearn.tree import DecisionTreeClassifier\n",
    "from sklearn.svm import SVC\n",
    "from sklearn.metrics import accuracy_score, classification_report, confusion_matrix\n",
    "import joblib\n",
    "\n",
    "# Chargement des données\n",
    "data = pd.read_excel(\"data1.xlsx\")\n",
    "\n",
    "# Exploration et prétraitement des données\n",
    "label_encoder = LabelEncoder()\n",
    "data['Target Audience'] = label_encoder.fit_transform(data['Target Audience'])\n",
    "\n",
    "# Préparation des données\n",
    "X = data.drop(columns=['Hacker'])\n",
    "y = data['Hacker']\n",
    "\n",
    "scaler = StandardScaler()\n",
    "X_scaled = scaler.fit_transform(X)\n",
    "\n",
    "# Division en ensemble d'entraînement et de test\n",
    "X_train, X_test, y_train, y_test = train_test_split(X_scaled, y, test_size=0.2, random_state=42)\n",
    "\n",
    "# Entraînement de différents modèles\n",
    "knn = KNeighborsClassifier()\n",
    "knn.fit(X_train, y_train)\n",
    "y_pred_knn = knn.predict(X_test)\n",
    "\n",
    "rf = RandomForestClassifier(random_state=42)\n",
    "rf.fit(X_train, y_train)\n",
    "y_pred_rf = rf.predict(X_test)\n",
    "\n",
    "dt = DecisionTreeClassifier(random_state=42)\n",
    "dt.fit(X_train, y_train)\n",
    "y_pred_dt = dt.predict(X_test)\n",
    "\n",
    "svm = SVC()\n",
    "svm.fit(X_train, y_train)\n",
    "y_pred_svm = svm.predict(X_test)\n",
    "\n",
    "# Évaluation des performances\n",
    "model_accuracies = {\n",
    "    \"KNN\": accuracy_score(y_test, y_pred_knn),\n",
    "    \"Random Forest\": accuracy_score(y_test, y_pred_rf),\n",
    "    \"Decision Tree\": accuracy_score(y_test, y_pred_dt),\n",
    "    \"SVM\": accuracy_score(y_test, y_pred_svm)\n",
    "}\n",
    "\n",
    "# Sélection du meilleur modèle\n",
    "best_model_name = max(model_accuracies, key=model_accuracies.get)\n",
    "best_model = {'KNN': knn, 'Random Forest': rf, 'Decision Tree': dt, 'SVM': svm}[best_model_name]\n",
    "\n",
    "# Afficher la matrice de confusion et le rapport de classification pour le meilleur modèle\n",
    "y_pred_best = best_model.predict(X_test)\n",
    "print(f\"Meilleur modèle : {best_model_name} avec une accuracy de {model_accuracies[best_model_name]:.2f}\")\n",
    "print(\"Matrice de confusion :\\n\", confusion_matrix(y_test, y_pred_best))\n",
    "print(\"Rapport de classification :\\n\", classification_report(y_test, y_pred_best))\n",
    "\n",
    "# Sauvegarde du meilleur modèle, scaler et label encoder\n",
    "joblib.dump(best_model, 'best_model.pkl')\n",
    "joblib.dump(scaler, 'scaler.pkl')\n",
    "joblib.dump(label_encoder, 'label_encoder.pkl')"
   ]
  },
  {
   "cell_type": "code",
   "execution_count": null,
   "id": "91ddda22-f462-4935-935e-62729174bde5",
   "metadata": {},
   "outputs": [],
   "source": []
  }
 ],
 "metadata": {
  "kernelspec": {
   "display_name": "Python 3 (ipykernel)",
   "language": "python",
   "name": "python3"
  },
  "language_info": {
   "codemirror_mode": {
    "name": "ipython",
    "version": 3
   },
   "file_extension": ".py",
   "mimetype": "text/x-python",
   "name": "python",
   "nbconvert_exporter": "python",
   "pygments_lexer": "ipython3",
   "version": "3.11.5"
  },
  "widgets": {
   "application/vnd.jupyter.widget-state+json": {
    "state": {},
    "version_major": 2,
    "version_minor": 0
   }
  }
 },
 "nbformat": 4,
 "nbformat_minor": 5
}
